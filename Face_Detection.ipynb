{
  "nbformat": 4,
  "nbformat_minor": 0,
  "metadata": {
    "colab": {
      "provenance": []
    },
    "kernelspec": {
      "name": "python3",
      "display_name": "Python 3"
    },
    "language_info": {
      "name": "python"
    }
  },
  "cells": [
    {
      "cell_type": "code",
      "execution_count": null,
      "metadata": {
        "id": "Yz5Qx_0yD6I6"
      },
      "outputs": [],
      "source": [
        "import pickle\n",
        "\n",
        "#Unpickling the file\n",
        "with open('/content/images.p','rb') as f:\n",
        "  images=pickle.load(f)\n",
        "\n",
        "with open(\"/content/labels.p\",\"rb\") as f:\n",
        "  labels=pickle.load(f)\n"
      ]
    },
    {
      "cell_type": "code",
      "source": [
        "print(images.shape)\n",
        "print(labels.shape)"
      ],
      "metadata": {
        "colab": {
          "base_uri": "https://localhost:8080/"
        },
        "id": "lAIUINsPFCfI",
        "outputId": "8d854fe6-7183-4b92-90f5-6a06ff5461a7"
      },
      "execution_count": null,
      "outputs": [
        {
          "output_type": "stream",
          "name": "stdout",
          "text": [
            "(395, 100, 100)\n",
            "(395,)\n"
          ]
        }
      ]
    },
    {
      "cell_type": "code",
      "source": [
        "set(labels)"
      ],
      "metadata": {
        "colab": {
          "base_uri": "https://localhost:8080/"
        },
        "id": "lo3GLW8KE4WR",
        "outputId": "5d057aa4-982e-4747-ff6e-00555aafcd1d"
      },
      "execution_count": null,
      "outputs": [
        {
          "output_type": "execute_result",
          "data": {
            "text/plain": [
              "{'Abhishek', 'Aniket', 'Pratisha', 'Samikhya'}"
            ]
          },
          "metadata": {},
          "execution_count": 3
        }
      ]
    },
    {
      "cell_type": "code",
      "source": [
        "from sklearn.preprocessing import LabelEncoder\n",
        "le=LabelEncoder()\n",
        "labels=le.fit_transform(labels)"
      ],
      "metadata": {
        "id": "AchOXYEkFK8W"
      },
      "execution_count": null,
      "outputs": []
    },
    {
      "cell_type": "code",
      "source": [
        "set(labels)"
      ],
      "metadata": {
        "colab": {
          "base_uri": "https://localhost:8080/"
        },
        "id": "tU384sY6FUg3",
        "outputId": "b9e6e912-2dc9-47c6-c356-1f7ceded3e06"
      },
      "execution_count": null,
      "outputs": [
        {
          "output_type": "execute_result",
          "data": {
            "text/plain": [
              "{0, 1, 2, 3}"
            ]
          },
          "metadata": {},
          "execution_count": 5
        }
      ]
    },
    {
      "cell_type": "code",
      "source": [
        "le.inverse_transform([0,1,2,3])"
      ],
      "metadata": {
        "colab": {
          "base_uri": "https://localhost:8080/"
        },
        "id": "CzX7ZMPFGk8V",
        "outputId": "93f43af7-a21c-4b05-ca8d-df7fa895de07"
      },
      "execution_count": null,
      "outputs": [
        {
          "output_type": "execute_result",
          "data": {
            "text/plain": [
              "array(['Abhishek', 'Aniket', 'Pratisha', 'Samikhya'], dtype='<U8')"
            ]
          },
          "metadata": {},
          "execution_count": 6
        }
      ]
    },
    {
      "cell_type": "code",
      "source": [
        "import numpy as np\n",
        "a=len(set(labels))\n",
        "print(\"Number of Persons : \",a)\n",
        "b=le.inverse_transform(np.arange(a))\n",
        "for i in range(len(b)):\n",
        "  print(i,\"-->\",b[i])"
      ],
      "metadata": {
        "colab": {
          "base_uri": "https://localhost:8080/"
        },
        "id": "tZf1JE-pGqP1",
        "outputId": "59a1215c-049b-416b-965e-86e6cd36702d"
      },
      "execution_count": null,
      "outputs": [
        {
          "output_type": "stream",
          "name": "stdout",
          "text": [
            "Number of Persons :  4\n",
            "0 --> Abhishek\n",
            "1 --> Aniket\n",
            "2 --> Pratisha\n",
            "3 --> Samikhya\n"
          ]
        }
      ]
    },
    {
      "cell_type": "code",
      "source": [
        "import matplotlib.pyplot as plt\n",
        "plt.imshow(images[211],cmap=\"gray\")\n",
        "plt.show()"
      ],
      "metadata": {
        "colab": {
          "base_uri": "https://localhost:8080/",
          "height": 433
        },
        "id": "yciS-Mz2HXSJ",
        "outputId": "29f6671a-3b95-4b34-a525-74ca597cbbe9"
      },
      "execution_count": null,
      "outputs": [
        {
          "output_type": "display_data",
          "data": {
            "text/plain": [
              "<Figure size 640x480 with 1 Axes>"
            ],
            "image/png": "[encoded data removed]"
          },
          "metadata": {}
        }
      ]
    },
    {
      "cell_type": "code",
      "source": [
        "import cv2"
      ],
      "metadata": {
        "id": "wzBhh8mLH--T"
      },
      "execution_count": null,
      "outputs": []
    },
    {
      "cell_type": "code",
      "source": [
        "def preprocessing(img):\n",
        "  img=cv2.equalizeHist(img)\n",
        "  img=img.reshape(100,100,1)\n",
        "  img=img/255\n",
        "  return img"
      ],
      "metadata": {
        "id": "w2UXcfpmIqx9"
      },
      "execution_count": null,
      "outputs": []
    },
    {
      "cell_type": "code",
      "source": [
        "images=np.array(list(map(preprocessing,images)))\n",
        "print('Input Shape',images.shape)"
      ],
      "metadata": {
        "colab": {
          "base_uri": "https://localhost:8080/"
        },
        "id": "vx2XS3zqI54E",
        "outputId": "0e1a77bc-5536-491f-9bfc-a3a6b07e4b97"
      },
      "execution_count": null,
      "outputs": [
        {
          "output_type": "stream",
          "name": "stdout",
          "text": [
            "Input Shape (395, 100, 100, 1)\n"
          ]
        }
      ]
    },
    {
      "cell_type": "code",
      "source": [
        "from keras.utils import to_categorical\n",
        "labels=to_categorical(labels)\n",
        "print('Output Shape',labels.shape)"
      ],
      "metadata": {
        "colab": {
          "base_uri": "https://localhost:8080/"
        },
        "id": "c2BDrjf-JtIP",
        "outputId": "79945697-298c-470b-bff4-75235ebb0021"
      },
      "execution_count": null,
      "outputs": [
        {
          "output_type": "stream",
          "name": "stdout",
          "text": [
            "Output Shape (395, 4)\n"
          ]
        }
      ]
    },
    {
      "cell_type": "code",
      "source": [
        "# Model\n",
        "from keras.models import Sequential\n",
        "from keras.layers import Dense,Conv2D,MaxPooling2D,Flatten\n",
        "from keras.optimizers import Adam"
      ],
      "metadata": {
        "id": "iZHI8PjFJ_A5"
      },
      "execution_count": null,
      "outputs": []
    },
    {
      "cell_type": "code",
      "source": [
        "def Lenet_model():\n",
        "  model=Sequential()\n",
        "\n",
        "  #Convolutional and ReLu layer\n",
        "  model.add(Conv2D(30,(5,5),activation=\"relu\",input_shape=(100,100,1)))\n",
        "\n",
        "  # Maxpooling Layer\n",
        "  model.add(MaxPooling2D(pool_size=(2,2)))\n",
        "  model.add(Conv2D(15,(3,3),activation=\"relu\"))\n",
        "  model.add(MaxPooling2D(pool_size=(2,2)))\n",
        "\n",
        "  #Flatten layer\n",
        "  model.add(Flatten())\n",
        "\n",
        "  #Hidden layer\n",
        "  model.add(Dense(200,activation=\"relu\"))\n",
        "  model.add(Dense(50,activation=\"relu\"))\n",
        "\n",
        "  #Output layer\n",
        "  model.add(Dense(4,activation=\"softmax\"))\n",
        "\n",
        "  #Compile model\n",
        "  model.compile(Adam(learning_rate=0.01),loss=\"categorical_crossentropy\",metrics=[\"accuracy\"])\n",
        "  return model"
      ],
      "metadata": {
        "id": "nUt1te6EKS0I"
      },
      "execution_count": null,
      "outputs": []
    },
    {
      "cell_type": "code",
      "source": [
        "model=Lenet_model()\n",
        "model.summary()"
      ],
      "metadata": {
        "colab": {
          "base_uri": "https://localhost:8080/"
        },
        "id": "dMb2I0l9LA-8",
        "outputId": "f6a8e580-18b8-45da-fb5f-ffcc38d19db1"
      },
      "execution_count": null,
      "outputs": [
        {
          "output_type": "stream",
          "name": "stdout",
          "text": [
            "Model: \"sequential\"\n",
            "_________________________________________________________________\n",
            " Layer (type)                Output Shape              Param #   \n",
            "=================================================================\n",
            " conv2d (Conv2D)             (None, 96, 96, 30)        780       \n",
            "                                                                 \n",
            " max_pooling2d (MaxPooling2  (None, 48, 48, 30)        0         \n",
            " D)                                                              \n",
            "                                                                 \n",
            " conv2d_1 (Conv2D)           (None, 46, 46, 15)        4065      \n",
            "                                                                 \n",
            " max_pooling2d_1 (MaxPoolin  (None, 23, 23, 15)        0         \n",
            " g2D)                                                            \n",
            "                                                                 \n",
            " flatten (Flatten)           (None, 7935)              0         \n",
            "                                                                 \n",
            " dense (Dense)               (None, 200)               1587200   \n",
            "                                                                 \n",
            " dense_1 (Dense)             (None, 50)                10050     \n",
            "                                                                 \n",
            " dense_2 (Dense)             (None, 4)                 204       \n",
            "                                                                 \n",
            "=================================================================\n",
            "Total params: 1602299 (6.11 MB)\n",
            "Trainable params: 1602299 (6.11 MB)\n",
            "Non-trainable params: 0 (0.00 Byte)\n",
            "_________________________________________________________________\n"
          ]
        }
      ]
    },
    {
      "cell_type": "code",
      "source": [
        "h=model.fit(images,labels,epochs=15,validation_split=0.2)"
      ],
      "metadata": {
        "colab": {
          "base_uri": "https://localhost:8080/"
        },
        "id": "1gst-q84MNbq",
        "outputId": "0e1bebb9-b69c-45e4-9b61-e837253d630e"
      },
      "execution_count": null,
      "outputs": [
        {
          "output_type": "stream",
          "name": "stdout",
          "text": [
            "Epoch 1/15\n",
            "10/10 [==============================] - 7s 533ms/step - loss: 2.1992 - accuracy: 0.4842 - val_loss: 3.6222 - val_accuracy: 0.0000e+00\n",
            "Epoch 2/15\n",
            "10/10 [==============================] - 3s 337ms/step - loss: 0.5202 - accuracy: 0.8576 - val_loss: 0.0119 - val_accuracy: 1.0000\n",
            "Epoch 3/15\n",
            "10/10 [==============================] - 3s 305ms/step - loss: 0.0997 - accuracy: 0.9620 - val_loss: 0.0927 - val_accuracy: 0.9747\n",
            "Epoch 4/15\n",
            "10/10 [==============================] - 4s 426ms/step - loss: 0.3568 - accuracy: 0.8892 - val_loss: 0.7340 - val_accuracy: 0.7848\n",
            "Epoch 5/15\n",
            "10/10 [==============================] - 6s 572ms/step - loss: 0.0435 - accuracy: 0.9905 - val_loss: 1.7165 - val_accuracy: 0.6835\n",
            "Epoch 6/15\n",
            "10/10 [==============================] - 3s 339ms/step - loss: 0.0020 - accuracy: 1.0000 - val_loss: 0.3271 - val_accuracy: 0.9114\n",
            "Epoch 7/15\n",
            "10/10 [==============================] - 3s 335ms/step - loss: 7.8437e-04 - accuracy: 1.0000 - val_loss: 0.1384 - val_accuracy: 0.9494\n",
            "Epoch 8/15\n",
            "10/10 [==============================] - 4s 414ms/step - loss: 3.0116e-04 - accuracy: 1.0000 - val_loss: 0.0939 - val_accuracy: 0.9620\n",
            "Epoch 9/15\n",
            "10/10 [==============================] - 4s 390ms/step - loss: 1.2662e-04 - accuracy: 1.0000 - val_loss: 0.0774 - val_accuracy: 0.9747\n",
            "Epoch 10/15\n",
            "10/10 [==============================] - 3s 318ms/step - loss: 8.3458e-05 - accuracy: 1.0000 - val_loss: 0.0694 - val_accuracy: 0.9747\n",
            "Epoch 11/15\n",
            "10/10 [==============================] - 3s 287ms/step - loss: 5.7364e-05 - accuracy: 1.0000 - val_loss: 0.0657 - val_accuracy: 0.9747\n",
            "Epoch 12/15\n",
            "10/10 [==============================] - 4s 428ms/step - loss: 4.5512e-05 - accuracy: 1.0000 - val_loss: 0.0638 - val_accuracy: 0.9873\n",
            "Epoch 13/15\n",
            "10/10 [==============================] - 4s 405ms/step - loss: 3.8067e-05 - accuracy: 1.0000 - val_loss: 0.0625 - val_accuracy: 0.9873\n",
            "Epoch 14/15\n",
            "10/10 [==============================] - 3s 319ms/step - loss: 3.2885e-05 - accuracy: 1.0000 - val_loss: 0.0615 - val_accuracy: 0.9873\n",
            "Epoch 15/15\n",
            "10/10 [==============================] - 3s 300ms/step - loss: 2.9635e-05 - accuracy: 1.0000 - val_loss: 0.0607 - val_accuracy: 0.9873\n"
          ]
        }
      ]
    },
    {
      "cell_type": "code",
      "source": [
        "model.save(\"final_model.h5\")"
      ],
      "metadata": {
        "colab": {
          "base_uri": "https://localhost:8080/"
        },
        "id": "iNer5B4zM523",
        "outputId": "0ce7453b-b5ea-4ee7-9490-d811aa15d0e5"
      },
      "execution_count": null,
      "outputs": [
        {
          "output_type": "stream",
          "name": "stderr",
          "text": [
            "/usr/local/lib/python3.10/dist-packages/keras/src/engine/training.py:3103: UserWarning: You are saving your model as an HDF5 file via `model.save()`. This file format is considered legacy. We recommend using instead the native Keras format, e.g. `model.save('my_model.keras')`.\n",
            "  saving_api.save_model(\n"
          ]
        }
      ]
    },
    {
      "cell_type": "code",
      "source": [],
      "metadata": {
        "id": "gAt-Zf3INlRq"
      },
      "execution_count": null,
      "outputs": []
    }
  ]
}